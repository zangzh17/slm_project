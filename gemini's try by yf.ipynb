import cv2
import time
import numpy as np
from meadowlark import Meadowlark

# =============================================================================
# 1. Configuration Constants
# =============================================================================

# --- Camera and Face Tracking ---
CAMERA_ID = 0
FRAME_WIDTH = 640
FRAME_HEIGHT = 480
# NOTE: Calibrate these FOV values for your specific camera for best accuracy.
CAMERA_FOV_HORIZONTAL = 70.0  # Horizontal Field of View in degrees
CAMERA_FOV_VERTICAL = 55.0    # Vertical Field of View in degrees

# --- SLM Configuration ---
# NOTE: Set your SLM parameters here. These are fixed for this application.
SLM_FOCAL_LENGTH_MM = 241
SLM_LENS_ROWS = 1
SLM_LENS_COLS = 1
SLM_ROI_WIDTH = 1152  # Use a region of interest on the SLM
SLM_ROI_HEIGHT = 1152
SLM_2PI_VALUE = 190   # The grayscale value for a 2-pi phase shift

# --- Physical Constants ---
WAVELENGTH = 550e-9  # 550 nm in meters
PIXEL_SIZE = 9.2e-6  # 9.2 μm in meters

# =============================================================================
# 2. SLM Control Functions
# =============================================================================

def calculate_steered_lens_phase(shape, focal_length_mm, angle_x_mrad, angle_y_mrad):
    """
    Calculates the phase pattern for a single Fresnel lens with beam steering.
    This is a simplified version for real-time updates.
    """
    height, width = shape
    focal_length_m = focal_length_mm * 1e-3
    k = 2 * np.pi / WAVELENGTH  # Wavenumber

    # Create coordinate grids (in meters) relative to the center
    y_pix, x_pix = np.indices(shape)
    x_m = (x_pix - width / 2) * PIXEL_SIZE
    y_m = (y_pix - height / 2) * PIXEL_SIZE

    # 1. Calculate Linear Phase for Beam Steering
    angle_x_rad = angle_x_mrad * 1e-3
    angle_y_rad = angle_y_mrad * 1e-3
    linear_phase = k * (x_m * np.sin(angle_x_rad) + y_m * np.sin(angle_y_rad))

    # 2. Calculate Fresnel Lens Phase
    r_squared = x_m**2 + y_m**2
    f_squared = focal_length_m**2
    lens_phase = k * (focal_length_m - np.sqrt(f_squared + r_squared))

    # 3. Combine and wrap phase to [0, 2π)
    total_phase = (lens_phase + linear_phase) % (2 * np.pi)
    
    return total_phase

# =============================================================================
# 3. Main Integrated Application Class
# =============================================================================

class FaceSteeredSLM:
    """
    Integrates face tracking with SLM beam steering.
    """
    def __init__(self):
        # --- Initialize Face Tracker ---
        self.face_cascade = cv2.CascadeClassifier(cv2.data.haarcascades + 'haarcascade_frontalface_default.xml')
        self.cap = cv2.VideoCapture(CAMERA_ID)
        self.cap.set(cv2.CAP_PROP_FRAME_WIDTH, FRAME_WIDTH)
        self.cap.set(cv2.CAP_PROP_FRAME_HEIGHT, FRAME_HEIGHT)
        self.cam_width = int(self.cap.get(cv2.CAP_PROP_FRAME_WIDTH))
        self.cam_height = int(self.cap.get(cv2.CAP_PROP_FRAME_HEIGHT))
        self.cam_center = (self.cam_width // 2, self.cam_height // 2)

        # --- Initialize SLM ---
        print("Initializing SLM...")
        self.slm = Meadowlark(
            verbose=False, # Set to True for more detailed SLM startup info
            sdk_path="C:\\Program Files\\Meadowlark Optics\\Blink OverDrive Plus",
            lut_path="C:\\Program Files\\Meadowlark Optics\\SDK\\1920x1152_linearVoltage.LUT",
        )
        self.slm_height, self.slm_width = self.slm.shape
        self.slm_roi_center = (self.slm_width // 2, self.slm_height // 2)
        print("SLM Initialized.")

    def _calculate_face_angles(self, face_center_x, face_center_y):
        """Calculates the angular position of the face in degrees."""
        rel_x = (face_center_x - self.cam_center[0]) / (self.cam_width / 2)
        rel_y = -(face_center_y - self.cam_center[1]) / (self.cam_height / 2) # Y-axis inverted
        theta_x = rel_x * (CAMERA_FOV_HORIZONTAL / 2)
        theta_y = rel_y * (CAMERA_FOV_VERTICAL / 2)
        return theta_x, theta_y

    def update_slm_steering(self, angle_x_mrad, angle_y_mrad):
        """Generates and sends a new phase pattern to the SLM."""
        # Calculate the phase pattern for a single, centered lens with steering
        phase_rad = calculate_steered_lens_phase(
            self.slm.shape,
            SLM_FOCAL_LENGTH_MM,
            angle_x_mrad,
            angle_y_mrad
        )
        
        # Convert phase from radians to an 8-bit integer for the SLM
        phi_8bit = np.uint8(phase_rad / (2 * np.pi) * SLM_2PI_VALUE)
        
        # Upload the pattern to the SLM
        self.slm.set_phase(phi_8bit)

    def run(self):
        """Starts the main tracking and steering loop."""
        print("\n--- Starting Face-Steered SLM ---")
        print("Press 'q' to quit.")
        
        # Set a neutral (non-steered) pattern initially
        self.update_slm_steering(0, 0)

        while True:
            ret, frame = self.cap.read()
            if not ret:
                print("Error: Could not read frame from camera.")
                break

            gray = cv2.cvtColor(frame, cv2.COLOR_BGR2GRAY)
            faces = self.face_cascade.detectMultiScale(gray, scaleFactor=1.1, minNeighbors=10, minSize=(80, 80))

            # Use the first detected face for steering
            if len(faces) > 0:
                x, y, w, h = faces[0]
                face_center_x = x + w // 2
                face_center_y = y + h // 2
                
                # 1. Calculate face angle in degrees
                angle_x_deg, angle_y_deg = self._calculate_face_angles(face_center_x, face_center_y)
                
                # 2. Convert degrees to milliradians for the SLM
                # NOTE: We invert the angles here to match the SLM's coordinate system
                # to the camera's view. This may need adjustment based on your optical setup.
                angle_x_mrad = -angle_x_deg * (np.pi / 180) * 1000
                angle_y_mrad = -angle_y_deg * (np.pi / 180) * 1000
                
                # 3. Update the SLM with the new steering angles
                self.update_slm_steering(angle_x_mrad, angle_y_mrad)
                
                # --- Draw Visuals on Frame ---
                cv2.rectangle(frame, (x, y), (x + w, y + h), (0, 255, 0), 2)
                cv2.circle(frame, (face_center_x, face_center_y), 5, (0, 0, 255), -1)
                info_text = f"Steering (mrad): ({angle_x_mrad:.1f}, {angle_y_mrad:.1f})"
                cv2.putText(frame, info_text, (x, y - 10), cv2.FONT_HERSHEY_SIMPLEX, 0.6, (0, 255, 255), 2)
            else:
                # If no face is detected, point the SLM forward
                self.update_slm_steering(0, 0)

            cv2.imshow('SLM Face Tracker', frame)

            if cv2.waitKey(1) & 0xFF == ord('q'):
                break

        print("Exiting and releasing resources.")
        self.cap.release()
        cv2.destroyAllWindows()
        # Optional: Clear the SLM screen on exit
        self.slm.set_phase(np.zeros(self.slm.shape, dtype=np.uint8))


if __name__ == '__main__':
    try:
        app = FaceSteeredSLM()
        app.run()
    except Exception as e:
        print(f"An error occurred: {e}")
        print("Please ensure the SLM and camera are connected and drivers are installed.")

